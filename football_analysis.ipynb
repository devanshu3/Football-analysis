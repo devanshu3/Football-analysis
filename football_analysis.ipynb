{
  "nbformat": 4,
  "nbformat_minor": 0,
  "metadata": {
    "colab": {
      "provenance": [],
      "mount_file_id": "1-Cs_M8aJV_LeiRriuM8DzflTlbhLtdS2",
      "authorship_tag": "ABX9TyPQ0v4xA2O1ZdkYwXBP28Hi",
      "include_colab_link": true
    },
    "kernelspec": {
      "name": "python3",
      "display_name": "Python 3"
    },
    "language_info": {
      "name": "python"
    }
  },
  "cells": [
    {
      "cell_type": "markdown",
      "metadata": {
        "id": "view-in-github",
        "colab_type": "text"
      },
      "source": [
        "<a href=\"https://colab.research.google.com/github/devanshu3/Football-analysis/blob/main/football_analysis.ipynb\" target=\"_parent\"><img src=\"https://colab.research.google.com/assets/colab-badge.svg\" alt=\"Open In Colab\"/></a>"
      ]
    },
    {
      "cell_type": "markdown",
      "source": [
        "## Football analysis"
      ],
      "metadata": {
        "id": "3QC8SQNz43lP"
      }
    },
    {
      "cell_type": "code",
      "source": [
        "import pandas as pd"
      ],
      "metadata": {
        "id": "gdzSek_T47o3"
      },
      "execution_count": 5,
      "outputs": []
    },
    {
      "cell_type": "markdown",
      "source": [
        "## Accepts: String in form of a-b, returns it literally.  "
      ],
      "metadata": {
        "id": "soYq28fF7QzC"
      }
    },
    {
      "cell_type": "code",
      "source": [
        "def convert_str(a):\n",
        "\n",
        "  a,b=a[0],a[-1]\n",
        "  result = 0\n",
        "  if a == 0:\n",
        "    result = -1\n",
        "  elif b == 0:\n",
        "    result = 1\n",
        "  else:\n",
        "    result = 0\n",
        "  return int(a)-int(b) + result"
      ],
      "metadata": {
        "id": "OGAWKmig41vB"
      },
      "execution_count": 6,
      "outputs": []
    },
    {
      "cell_type": "markdown",
      "source": [
        "## extra points for good defence"
      ],
      "metadata": {
        "id": "TbX9sOqn70fI"
      }
    },
    {
      "cell_type": "code",
      "source": [
        "df = pd.read_csv('/content/drive/MyDrive/football_analysis/fd.csv')\n",
        "df.index = df[df.columns[0]]\n",
        "df.drop(df.columns[0],inplace=True,axis=1)"
      ],
      "metadata": {
        "id": "IwX47ojS72Uq"
      },
      "execution_count": 7,
      "outputs": []
    },
    {
      "cell_type": "markdown",
      "source": [
        "##  Knowledge graph construction starts\n"
      ],
      "metadata": {
        "id": "u32W9TWl76RG"
      }
    },
    {
      "cell_type": "code",
      "source": [
        "import numpy as np\n",
        "graph = list(np.ones((20,20)))\n",
        "\n",
        "for i in range(0,19):\n",
        "    for j in range(i+1,20):\n",
        "        graph[i][j] = convert_str(df.iloc[i,j])\n",
        "        graph[j][i] = convert_str(df.iloc[j,i])\n",
        "\n",
        "df2 = pd.read_csv('/content/drive/MyDrive/football_analysis/fd2015.csv')\n",
        "df2.index = df2[df2.columns[0]]\n",
        "df2.drop(df2.columns[0],inplace=True,axis=1)\n",
        "\n",
        "for i in range(0,19):\n",
        "    for j in range(i+1,20):\n",
        "        if df2.columns[i] in df.columns and df2.columns[j] in df.columns:\n",
        "            graph[i][j] = float((graph[i][j] + convert_str(df2.iloc[i,j])))/2.0\n",
        "            graph[j][i] = float((graph[j][i] + convert_str(df2.iloc[j,i])))/2.0\n",
        "\n",
        "df3 = pd.read_csv('/content/drive/MyDrive/football_analysis/fd2016.csv')\n",
        "df3.index = df3[df3.columns[0]]\n",
        "df3.drop(df3.columns[0],inplace=True,axis=1)\n",
        "\n",
        "for i in range(0,19):\n",
        "    for j in range(i+1,20):\n",
        "        if df3.columns[i] in df.columns and df3.columns[j] in df.columns:\n",
        "            graph[i][j] = float((graph[i][j] + convert_str(df3.iloc[i,j])))/2.0\n",
        "            graph[j][i] = float((graph[j][i] + convert_str(df3.iloc[j,i])))/2.0\n",
        "\n",
        "graph = np.array(graph)\n"
      ],
      "metadata": {
        "id": "NDkOCg0L9WgP"
      },
      "execution_count": 8,
      "outputs": []
    },
    {
      "cell_type": "markdown",
      "source": [
        "## Taking Decision"
      ],
      "metadata": {
        "id": "jtWpRBCHCAcy"
      }
    },
    {
      "cell_type": "code",
      "source": [
        "max_margin = np.max(graph)\n",
        "min_margin = np.min(graph)\n",
        "\n",
        "established_total_weights = [sum(graph[j]) for j in range(20)]\n",
        "\n",
        "def uniform_distri(x,max_margin,min_margin):\n",
        "    return float((x-min_margin))/float((max_margin-min_margin))\n",
        "\n",
        "def intimidation_factor(team1_str,team2_str):\n",
        "    total_weights = [sum(graph[j]) for j in range(0,20)]\n",
        "    min_tot = min(total_weights)\n",
        "    max_tot = max(total_weights)\n",
        "    id1 = list(df.columns.values).index(team1_str)\n",
        "    id2 = list(df.columns.values).index(team2_str)\n",
        "    return abs(float(total_weights[id1]-total_weights[id2])/(max_tot-min_tot))\n",
        "\n",
        "\n",
        "def who_will_win(team1_str,team2_str):\n",
        "    id1 = list(df.columns.values).index(team1_str)\n",
        "    id2 = list(df.columns.values).index(team2_str)\n",
        "    value = graph[id1][id2]\n",
        "    past_result = uniform_distri(value,max_margin,min_margin)\n",
        "    intimidation_result = intimidation_factor(team1_str,team2_str)\n",
        "    result = 0.48 * intimidation_result + 0.52 * past_result\n",
        "    return result\n",
        "\n",
        "\n",
        "def choose_two_teams(avaliable_players):\n",
        "    team1 = np.random.choice(avaliable_players)\n",
        "    team2 = team1\n",
        "    while team2 == team1:\n",
        "        team2 = np.random.choice(avaliable_players)\n",
        "    return team1,team2\n"
      ],
      "metadata": {
        "id": "_d5U4RGUCBi-"
      },
      "execution_count": 9,
      "outputs": []
    },
    {
      "cell_type": "code",
      "source": [
        "def simulate_tournament():\n",
        "    avaliable_players = list(df.columns.values)\n",
        "    while len(avaliable_players)!=1:\n",
        "        team1,team2 = choose_two_teams(avaliable_players)\n",
        "        id1 = avaliable_players.index(team1)\n",
        "        id2 = avaliable_players.index(team2)\n",
        "        result = who_will_win(team1,team2)\n",
        "        if result >0.5:\n",
        "            del avaliable_players[id2]\n",
        "        else:\n",
        "            del avaliable_players[id1]\n",
        "    return avaliable_players[0]\n",
        "\n",
        "from collections import Counter\n",
        "def find_hot_favorites():\n",
        "    tournament_wins = []\n",
        "    for i in range(2000):\n",
        "        tournament_wins.append(simulate_tournament())\n",
        "    outcome = dict(Counter(tournament_wins))\n",
        "    actual_outcome = sorted(outcome.items(), key=lambda x: (-x[1], x[0]))\n",
        "    return actual_outcome[0][0],actual_outcome[1][0],actual_outcome[2][0]"
      ],
      "metadata": {
        "id": "0UPVIM4kCI_O"
      },
      "execution_count": 10,
      "outputs": []
    },
    {
      "cell_type": "code",
      "source": [
        "find_hot_favorites()"
      ],
      "metadata": {
        "colab": {
          "base_uri": "https://localhost:8080/"
        },
        "id": "CAxGJtL4CLOC",
        "outputId": "6017ccc7-66bf-43d7-d4f3-4930ed924104"
      },
      "execution_count": 11,
      "outputs": [
        {
          "output_type": "execute_result",
          "data": {
            "text/plain": [
              "('Chelsea', 'Manchester City', 'Arsenal')"
            ]
          },
          "metadata": {},
          "execution_count": 11
        }
      ]
    },
    {
      "cell_type": "code",
      "source": [
        "simulate_tournament()"
      ],
      "metadata": {
        "colab": {
          "base_uri": "https://localhost:8080/",
          "height": 36
        },
        "id": "WVP1Erd3BWRQ",
        "outputId": "14d95e14-971f-4c09-9031-983e8db45d40"
      },
      "execution_count": 14,
      "outputs": [
        {
          "output_type": "execute_result",
          "data": {
            "text/plain": [
              "'Manchester City'"
            ],
            "application/vnd.google.colaboratory.intrinsic+json": {
              "type": "string"
            }
          },
          "metadata": {},
          "execution_count": 14
        }
      ]
    },
    {
      "cell_type": "code",
      "source": [
        "choose_two_teams(33)"
      ],
      "metadata": {
        "colab": {
          "base_uri": "https://localhost:8080/"
        },
        "id": "paJvVQaYCK5p",
        "outputId": "341b0e31-2132-4d46-9dd4-fa84a9a357fe"
      },
      "execution_count": 23,
      "outputs": [
        {
          "output_type": "execute_result",
          "data": {
            "text/plain": [
              "(16, 5)"
            ]
          },
          "metadata": {},
          "execution_count": 23
        }
      ]
    },
    {
      "cell_type": "code",
      "source": [
        "uniform_distri(6,5,0)"
      ],
      "metadata": {
        "colab": {
          "base_uri": "https://localhost:8080/"
        },
        "id": "M2PViwrsGdJJ",
        "outputId": "11ff30e7-63be-4df6-abba-b65db095126d"
      },
      "execution_count": 27,
      "outputs": [
        {
          "output_type": "execute_result",
          "data": {
            "text/plain": [
              "1.2"
            ]
          },
          "metadata": {},
          "execution_count": 27
        }
      ]
    }
  ]
}